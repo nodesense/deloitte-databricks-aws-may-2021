{
 "cells": [
  {
   "cell_type": "code",
   "execution_count": 3,
   "id": "10ebe22d",
   "metadata": {},
   "outputs": [
    {
     "name": "stdout",
     "output_type": "stream",
     "text": [
      "Hello world\n"
     ]
    }
   ],
   "source": [
    "# this is called Cell in Jupyter\n",
    "# Shift + Enter to run the cell\n",
    "print(\"Hello world\")\n"
   ]
  },
  {
   "cell_type": "code",
   "execution_count": 4,
   "id": "1e3ab0e6",
   "metadata": {},
   "outputs": [
    {
     "name": "stdout",
     "output_type": "stream",
     "text": [
      "10 20 30\n"
     ]
    }
   ],
   "source": [
    "# a, b ,c are called variables\n",
    "# no static time compilaton, no static typing\n",
    "a = 10\n",
    "b = 20\n",
    "c = a + b\n",
    "\n",
    "print(a, b, c)"
   ]
  },
  {
   "cell_type": "code",
   "execution_count": 5,
   "id": "9155152d",
   "metadata": {},
   "outputs": [
    {
     "name": "stdout",
     "output_type": "stream",
     "text": [
      "10 <class 'int'>\n",
      "34.43 <class 'float'>\n",
      "Python3 <class 'str'>\n",
      "True <class 'bool'>\n"
     ]
    }
   ],
   "source": [
    "# types\n",
    "# no static type\n",
    "# but dynamic / runtime type spported \n",
    "i = 10\n",
    "f = 34.43\n",
    "s = \"Python3\"\n",
    "b = True # boolean type True and False\n",
    "\n",
    "print (i, type(i))\n",
    "print (f, type(f))\n",
    "print (s, type(s))\n",
    "print (b, type(b))"
   ]
  },
  {
   "cell_type": "code",
   "execution_count": 7,
   "id": "9f3d77b6",
   "metadata": {},
   "outputs": [
    {
     "name": "stdout",
     "output_type": "stream",
     "text": [
      "This won't print \n"
     ]
    }
   ],
   "source": [
    "# conditions, blocks\n",
    "# colon represent Block statements, similar to j/java/c++/c# curly brace{ }\n",
    "# Use Indentation for block addressing\n",
    "\n",
    "if (10 > 5):\n",
    "    print (\"10 is greater than 5\")\n",
    "    print (\"5 is less than 10\")\n",
    "else:\n",
    "    print(\"This won't print \")\n",
    "    "
   ]
  },
  {
   "cell_type": "code",
   "execution_count": 9,
   "id": "09e4a921",
   "metadata": {},
   "outputs": [
    {
     "name": "stdout",
     "output_type": "stream",
     "text": [
      "I 0\n",
      "I 1\n",
      "I 2\n",
      "I 3\n",
      "I 4\n"
     ]
    }
   ],
   "source": [
    "for i in range(5):\n",
    "    print ('I', i)\n",
    "    \n"
   ]
  },
  {
   "cell_type": "code",
   "execution_count": 12,
   "id": "32f82686",
   "metadata": {},
   "outputs": [
    {
     "data": {
      "text/plain": [
       "3"
      ]
     },
     "execution_count": 12,
     "metadata": {},
     "output_type": "execute_result"
    }
   ],
   "source": [
    "# Line continuation\n",
    "# option 1: using escape char \\ at end of the line, no SPACE after \\\n",
    "\n",
    "1\\\n",
    "+\\\n",
    "2\n"
   ]
  },
  {
   "cell_type": "code",
   "execution_count": 13,
   "id": "32e3872d",
   "metadata": {},
   "outputs": [
    {
     "data": {
      "text/plain": [
       "3"
      ]
     },
     "execution_count": 13,
     "metadata": {},
     "output_type": "execute_result"
    }
   ],
   "source": [
    "# line continuation \n",
    "# option 2 using paranthesis ()\n",
    "\n",
    "(\n",
    "    1 \n",
    "    +\n",
    "    \n",
    "    2\n",
    ")\n",
    "\n"
   ]
  },
  {
   "cell_type": "code",
   "execution_count": 14,
   "id": "c99c61ff",
   "metadata": {},
   "outputs": [
    {
     "name": "stdout",
     "output_type": "stream",
     "text": [
      "Inside function\n"
     ]
    }
   ],
   "source": [
    "# Functions\n",
    "# defined using def keyword\n",
    "# function, a reusable block of code\n",
    "\n",
    "def show():\n",
    "    print (\"Inside function\")\n",
    "    \n",
    "show()"
   ]
  },
  {
   "cell_type": "code",
   "execution_count": 16,
   "id": "22252e4e",
   "metadata": {},
   "outputs": [
    {
     "name": "stdout",
     "output_type": "stream",
     "text": [
      "100\n",
      "25\n"
     ]
    }
   ],
   "source": [
    "def power(n):\n",
    "    return n * n\n",
    "\n",
    "m = power(10)\n",
    "\n",
    "print(m)\n",
    "\n",
    "print ( power(5) )"
   ]
  },
  {
   "cell_type": "code",
   "execution_count": 18,
   "id": "aa510bf7",
   "metadata": {},
   "outputs": [
    {
     "name": "stdout",
     "output_type": "stream",
     "text": [
      "30\n"
     ]
    }
   ],
   "source": [
    "def add(a, b):\n",
    "    return a + b\n",
    "\n",
    "# python, by defualt pass parameters left to right\n",
    "\n",
    "c = add(10, 20) # a = 10, b = 20\n",
    "print(c)\n"
   ]
  },
  {
   "cell_type": "code",
   "execution_count": 19,
   "id": "bc98bb7b",
   "metadata": {},
   "outputs": [
    {
     "name": "stdout",
     "output_type": "stream",
     "text": [
      "30\n",
      "75\n"
     ]
    }
   ],
   "source": [
    "# named arguments\n",
    "# metion variable by name while passing arguments\n",
    "\n",
    "c = add( a = 10, b = 20) # a = 10, b = 20\n",
    "print(c)\n",
    "\n",
    "c = add(b = 50, a = 25) # a = 25, b = 50\n",
    "\n",
    "print(c)"
   ]
  },
  {
   "cell_type": "code",
   "execution_count": 26,
   "id": "ecd7e10f",
   "metadata": {},
   "outputs": [
    {
     "name": "stdout",
     "output_type": "stream",
     "text": [
      "5\n",
      "50\n",
      "30\n"
     ]
    }
   ],
   "source": [
    "# default arguments\n",
    "# a is mandatory, b is optional with default\n",
    "def sub (a, b = 0):\n",
    "    return a - b\n",
    "\n",
    "print( sub(10, 5)  ) # a = 10, b = 5\n",
    "\n",
    "print ( sub (50) ) # a = 50, b = 0 due to default in functional declaration\n",
    "\n",
    "def sum (a, c, b = 0 ): \n",
    "    return a + b + c\n",
    "\n",
    "def mul(a, b, c = 1):\n",
    "    return a * b * c\n",
    "\n",
    "print( sum (10, 20) )\n"
   ]
  },
  {
   "cell_type": "code",
   "execution_count": 29,
   "id": "3edcab51",
   "metadata": {},
   "outputs": [
    {
     "name": "stdout",
     "output_type": "stream",
     "text": [
      "0.5\n",
      "<class 'function'>\n",
      "<class 'function'>\n"
     ]
    }
   ],
   "source": [
    "# Lambda\n",
    "# annnoymous function,  1 line function\n",
    "\n",
    "# def is the keyword useful to create function\n",
    "\n",
    "div = lambda a, b: a / b\n",
    "\n",
    "print (div (10, 20) )\n",
    "\n",
    "# type of lambda, def are same, only that lambda can be annonymous\n",
    "\n",
    "print( type (add))\n",
    "print (type (div))\n"
   ]
  },
  {
   "cell_type": "code",
   "execution_count": 35,
   "id": "11e4f208",
   "metadata": {},
   "outputs": [
    {
     "name": "stdout",
     "output_type": "stream",
     "text": [
      "29\n",
      "99\n",
      "9\n",
      "5.146264369941973\n"
     ]
    }
   ],
   "source": [
    "# write a function that basically sum the square of the numbers\n",
    "# write a function that basically sum the cube of the numbers\n",
    "# write a function that basically sum the sq rt of the numbers\n",
    "# write a function that basically sum the numbers\n",
    "# in python, functions are first class citizen/object, we can return, assign, pass functions as like object\n",
    "\n",
    "# higher order functions, a function that accept another function\n",
    "def sum(a, b, c, func):\n",
    "    return func(a) + func(b) + func(c)\n",
    "\n",
    "# a = 2, b = 3, v = 4\n",
    "# func = lambda n: n * n\n",
    "# func(2) + func(3) + func (4)\n",
    "result = sum (2, 3, 4, lambda n: n * n) # no name given for lambda, annonymous\n",
    "print(result)\n",
    "\n",
    "result = sum (2,3,4, lambda n: n * n * n)\n",
    "print(result)\n",
    "\n",
    "# identity 2 + 3 + 4\n",
    "result = sum (2,3,4, lambda n: n)\n",
    "print(result)\n",
    "\n",
    "import math\n",
    "\n",
    "def sqrt(n):\n",
    "    return math.sqrt(n)\n",
    "\n",
    "result = sum (2, 3 ,4, sqrt)\n",
    "print(result)"
   ]
  },
  {
   "cell_type": "code",
   "execution_count": 44,
   "id": "6a0be25e",
   "metadata": {},
   "outputs": [
    {
     "name": "stdout",
     "output_type": "stream",
     "text": [
      "[10, 20, 30, 40, 50]\n",
      "[10, 20, 30, 40, 50, 60]\n",
      "[10, 20, 40, 50, 60]\n",
      "[10, 40, 50, 60]\n",
      "[5, 40, 50, 60]\n",
      "len 4\n"
     ]
    },
    {
     "ename": "TypeError",
     "evalue": "list expected at most 1 argument, got 4",
     "output_type": "error",
     "traceback": [
      "\u001b[1;31m---------------------------------------------------------------------------\u001b[0m",
      "\u001b[1;31mTypeError\u001b[0m                                 Traceback (most recent call last)",
      "\u001b[1;32m<ipython-input-44-77f21f659db4>\u001b[0m in \u001b[0;36m<module>\u001b[1;34m\u001b[0m\n\u001b[0;32m     22\u001b[0m \u001b[0mprint\u001b[0m\u001b[1;33m(\u001b[0m\u001b[1;34m\"len\"\u001b[0m\u001b[1;33m,\u001b[0m \u001b[0mlen\u001b[0m\u001b[1;33m(\u001b[0m\u001b[0mnumbers\u001b[0m\u001b[1;33m)\u001b[0m\u001b[1;33m)\u001b[0m\u001b[1;33m\u001b[0m\u001b[1;33m\u001b[0m\u001b[0m\n\u001b[0;32m     23\u001b[0m \u001b[1;33m\u001b[0m\u001b[0m\n\u001b[1;32m---> 24\u001b[1;33m \u001b[0mprint\u001b[0m \u001b[1;33m(\u001b[0m \u001b[0mlist\u001b[0m\u001b[1;33m(\u001b[0m\u001b[1;34m\"Python\"\u001b[0m\u001b[1;33m,\u001b[0m \u001b[1;32mTrue\u001b[0m\u001b[1;33m,\u001b[0m \u001b[1;36m26\u001b[0m\u001b[1;33m,\u001b[0m \u001b[1;34m\"years\"\u001b[0m\u001b[1;33m)\u001b[0m   \u001b[1;33m)\u001b[0m\u001b[1;33m\u001b[0m\u001b[1;33m\u001b[0m\u001b[0m\n\u001b[0m",
      "\u001b[1;31mTypeError\u001b[0m: list expected at most 1 argument, got 4"
     ]
    }
   ],
   "source": [
    "# list, [], collection, sequence of elements\n",
    "# mutable, means we can change the values\n",
    "names = [\"python\", \"aws\", \"spark\"]\n",
    "numbers = [10, 20, 30, 40, 50]\n",
    "\n",
    "print(numbers)\n",
    "numbers.append(60)  # add new element\n",
    "print(numbers)\n",
    "\n",
    "numbers.remove(30) # remove element\n",
    "\n",
    "print(numbers) # no 30 in the list\n",
    "\n",
    "del numbers[1] # remove 20 from list, 1 represent array index\n",
    "\n",
    "print (numbers)\n",
    "\n",
    "numbers[0] = 5 # 0 represent starting index\n",
    "\n",
    "print(numbers)\n",
    "\n",
    "print(\"len\", len(numbers))\n"
   ]
  },
  {
   "cell_type": "code",
   "execution_count": 46,
   "id": "c6f63c60",
   "metadata": {},
   "outputs": [
    {
     "name": "stdout",
     "output_type": "stream",
     "text": [
      "(10, 20, 30)\n",
      "<class 'tuple'> <class 'tuple'>\n"
     ]
    }
   ],
   "source": [
    "# tuple, seq of elements, Immutbale, means once created, we cannot add, modify or delete items\n",
    "\n",
    "# tuple or () \n",
    "\n",
    "t = (10, 20, 30)\n",
    "\n",
    "print(t)\n",
    "# you can crate a list from  tuple\n",
    "\n",
    "l = list(t) # create a new list with all tuple elements\n",
    "\n",
    "l2 = [20,30,40]\n",
    "\n",
    "t2 = tuple(l2)\n",
    "\n",
    "print(type(t2), type(t))"
   ]
  },
  {
   "cell_type": "code",
   "execution_count": 53,
   "id": "93ac3d1a",
   "metadata": {},
   "outputs": [
    {
     "name": "stdout",
     "output_type": "stream",
     "text": [
      "<class 'str'>\n",
      "<class 'int'>\n",
      "<class 'tuple'>\n",
      "<class 'tuple'>\n"
     ]
    }
   ],
   "source": [
    "ts1 = (\"hello\") # not tuple,  string\n",
    "t1 = (10 ) #3  not tuple, int\n",
    "\n",
    "print(type (ts1))\n",
    "print(type(t1))\n",
    "\n",
    "t1 = (10, )\n",
    "print(type(t1))\n",
    "\n",
    "t1 = 10,\n",
    "print(type(t1))\n"
   ]
  },
  {
   "cell_type": "code",
   "execution_count": 55,
   "id": "f4a46714",
   "metadata": {},
   "outputs": [
    {
     "name": "stdout",
     "output_type": "stream",
     "text": [
      "15\n"
     ]
    }
   ],
   "source": [
    "def math1(a,b,type1):\n",
    "    if(type1 == \"add\"):\n",
    "        return a + b\n",
    "    elif(type1 == \"sub\"):\n",
    "        return a - b\n",
    "    \n",
    "print(math1(10,5,\"add\"))\n"
   ]
  },
  {
   "cell_type": "code",
   "execution_count": 58,
   "id": "1f7933f5",
   "metadata": {},
   "outputs": [
    {
     "name": "stdout",
     "output_type": "stream",
     "text": [
      "{'IN': 'India', 'USA': 'United States'}\n",
      "{'IN': 'India', 'USA': 'United States', 'UK': 'United Kingdom'}\n",
      "{'IN': 'India', 'UK': 'Great Britain'}\n"
     ]
    }
   ],
   "source": [
    "# dictionary or map key/value pair\n",
    "# key should be unique, there is an associative value to the key\n",
    "# mutable\n",
    "\n",
    "# IN, USA are keys\n",
    "d = {\"IN\": \"India\", \n",
    "     \"USA\": \"United States\"}\n",
    "\n",
    "print(d)\n",
    "d[\"UK\"] = \"United Kingdom\"\n",
    "print(d)\n",
    "\n",
    "d[\"UK\"] = \"Great Britain\"\n",
    "\n",
    "del d[\"USA\"]\n",
    "\n",
    "print(d)"
   ]
  },
  {
   "cell_type": "code",
   "execution_count": null,
   "id": "5ff5181e",
   "metadata": {},
   "outputs": [],
   "source": []
  }
 ],
 "metadata": {
  "kernelspec": {
   "display_name": "Python 3",
   "language": "python",
   "name": "python3"
  },
  "language_info": {
   "codemirror_mode": {
    "name": "ipython",
    "version": 3
   },
   "file_extension": ".py",
   "mimetype": "text/x-python",
   "name": "python",
   "nbconvert_exporter": "python",
   "pygments_lexer": "ipython3",
   "version": "3.8.8"
  }
 },
 "nbformat": 4,
 "nbformat_minor": 5
}
