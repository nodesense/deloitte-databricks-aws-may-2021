{
 "cells": [
  {
   "cell_type": "code",
   "execution_count": 2,
   "id": "92076cd5",
   "metadata": {},
   "outputs": [],
   "source": [
    "# pip install boto3\n",
    "import boto3"
   ]
  },
  {
   "cell_type": "code",
   "execution_count": 3,
   "id": "e1afb03d",
   "metadata": {},
   "outputs": [
    {
     "name": "stdout",
     "output_type": "stream",
     "text": [
      "abbiswalmybucket\n",
      "agastibucket\n",
      "anurajbucket\n",
      "aparthworkshop\n",
      "arushitestbucket\n",
      "chaithrag\n",
      "dhavaltworkshopbucket01\n",
      "dhoodasunil\n",
      "ggellabucket1\n",
      "gksworkshop\n",
      "kkkbucket\n",
      "krtestbucket\n",
      "mbdatalake\n",
      "mrbawsworkshop\n",
      "rapetifs\n",
      "rohansoni\n",
      "s3bucketnalini\n",
      "smathur11\n",
      "srilathatest\n",
      "vskumar\n"
     ]
    }
   ],
   "source": [
    "# aws crednetials taken from ~/.aws/credentials file and location is taken from ~./aws/config\n",
    "\n",
    "s3 = boto3.resource(\"s3\")\n",
    "for bucket in s3.buckets.all():\n",
    "    print(bucket.name)"
   ]
  },
  {
   "cell_type": "code",
   "execution_count": 5,
   "id": "45a6a4c2",
   "metadata": {},
   "outputs": [
    {
     "data": {
      "text/plain": [
       "{'ResponseMetadata': {'RequestId': 'B5YQ0MG732SPJF3X',\n",
       "  'HostId': 'ZPNNXXyzK8fjrPhidL+UUhQDM16/hs22pDVB+X7woo/ELPsnHuJs45twDpD2Mci2GVHauEvhCJw=',\n",
       "  'HTTPStatusCode': 200,\n",
       "  'HTTPHeaders': {'x-amz-id-2': 'ZPNNXXyzK8fjrPhidL+UUhQDM16/hs22pDVB+X7woo/ELPsnHuJs45twDpD2Mci2GVHauEvhCJw=',\n",
       "   'x-amz-request-id': 'B5YQ0MG732SPJF3X',\n",
       "   'date': 'Mon, 17 May 2021 11:52:26 GMT',\n",
       "   'etag': '\"d41d8cd98f00b204e9800998ecf8427e\"',\n",
       "   'content-length': '0',\n",
       "   'server': 'AmazonS3'},\n",
       "  'RetryAttempts': 0},\n",
       " 'ETag': '\"d41d8cd98f00b204e9800998ecf8427e\"'}"
      ]
     },
     "execution_count": 5,
     "metadata": {},
     "output_type": "execute_result"
    }
   ],
   "source": [
    "# create folder suffix / mandatory \n",
    "s3 = boto3.client(\"s3\")\n",
    "s3.put_object(Bucket=\"gksworkshop\", Key=\"test/\")"
   ]
  },
  {
   "cell_type": "code",
   "execution_count": 7,
   "id": "f00070c4",
   "metadata": {},
   "outputs": [
    {
     "name": "stdout",
     "output_type": "stream",
     "text": [
      "{'Key': 'employees/', 'LastModified': datetime.datetime(2021, 5, 17, 10, 29, 19, tzinfo=tzutc()), 'ETag': '\"d41d8cd98f00b204e9800998ecf8427e\"', 'Size': 0, 'StorageClass': 'STANDARD', 'Owner': {'ID': '41d5a5f78b472073ef904dd7f6ccbb38f6786b26825f0c7cb9b2219b281a54f7'}}\n",
      "{'Key': 'employees/employees1.csv', 'LastModified': datetime.datetime(2021, 5, 17, 10, 32, 50, tzinfo=tzutc()), 'ETag': '\"94434a1c6830b4fddccbc135097a0041\"', 'Size': 70, 'StorageClass': 'STANDARD', 'Owner': {'ID': '41d5a5f78b472073ef904dd7f6ccbb38f6786b26825f0c7cb9b2219b281a54f7'}}\n",
      "{'Key': 'test/', 'LastModified': datetime.datetime(2021, 5, 17, 11, 55, 3, tzinfo=tzutc()), 'ETag': '\"d41d8cd98f00b204e9800998ecf8427e\"', 'Size': 0, 'StorageClass': 'STANDARD', 'Owner': {'ID': '41d5a5f78b472073ef904dd7f6ccbb38f6786b26825f0c7cb9b2219b281a54f7'}}\n",
      "{'Key': 'test1/', 'LastModified': datetime.datetime(2021, 5, 17, 11, 56, 7, tzinfo=tzutc()), 'ETag': '\"d41d8cd98f00b204e9800998ecf8427e\"', 'Size': 0, 'StorageClass': 'STANDARD', 'Owner': {'ID': '41d5a5f78b472073ef904dd7f6ccbb38f6786b26825f0c7cb9b2219b281a54f7'}}\n"
     ]
    }
   ],
   "source": [
    "all_objects = s3.list_objects(Bucket=\"gksworkshop\")\n",
    "# {\"Contents\": [{Key: \"employees/\"}]}\n",
    "for obj in all_objects[\"Contents\"]:\n",
    "    print(obj)\n",
    "    print(obj[\"Key\"])\n",
    "    \n",
    "    "
   ]
  },
  {
   "cell_type": "code",
   "execution_count": 8,
   "id": "7c0d1d99",
   "metadata": {},
   "outputs": [],
   "source": [
    "s3.upload_file(\"C:/data/employees2.csv\", \"gksworkshop\", \"employees/employees2.csv\")"
   ]
  },
  {
   "cell_type": "code",
   "execution_count": 10,
   "id": "57c70f87",
   "metadata": {},
   "outputs": [],
   "source": [
    "s3.download_file(\"gksworkshop\",   \"employees/employees2.csv\" , \"c:/data/copy.csv\", )"
   ]
  },
  {
   "cell_type": "code",
   "execution_count": 12,
   "id": "75c3a67d",
   "metadata": {},
   "outputs": [
    {
     "data": {
      "text/plain": [
       "{'ResponseMetadata': {'RequestId': 'VDKGBG3Y0708D3N2',\n",
       "  'HostId': 'xd/GlXRKEqT9eNYjkJmXi8opjztJeyBd3uOVq4kzQJkwfNPgLCmRLtOdM3Ypc7eIbIqs6E39lc0=',\n",
       "  'HTTPStatusCode': 204,\n",
       "  'HTTPHeaders': {'x-amz-id-2': 'xd/GlXRKEqT9eNYjkJmXi8opjztJeyBd3uOVq4kzQJkwfNPgLCmRLtOdM3Ypc7eIbIqs6E39lc0=',\n",
       "   'x-amz-request-id': 'VDKGBG3Y0708D3N2',\n",
       "   'date': 'Mon, 17 May 2021 12:20:35 GMT',\n",
       "   'server': 'AmazonS3'},\n",
       "  'RetryAttempts': 0}}"
      ]
     },
     "execution_count": 12,
     "metadata": {},
     "output_type": "execute_result"
    }
   ],
   "source": [
    "s3.delete_object(Bucket=\"gksworkshop\", Key=\"employees/employees2.csv\")"
   ]
  },
  {
   "cell_type": "code",
   "execution_count": 14,
   "id": "4a6d49e5",
   "metadata": {},
   "outputs": [
    {
     "name": "stdout",
     "output_type": "stream",
     "text": [
      "name,gender,salary\r\n",
      "joe,male,5000\r\n",
      "karthik,male,6500\r\n",
      "mary,female,8900\n"
     ]
    }
   ],
   "source": [
    "s3_resource = boto3.resource('s3')\n",
    "\n",
    "obj = s3_resource.Object(\"gksworkshop\", \"employees/employees1.csv\", )\n",
    "content = obj.get()['Body'].read().decode('utf-8')\n",
    "print(content)\n",
    "# shift + tab + tab + tab to get intellisense\n",
    "#s3_resource.Object("
   ]
  },
  {
   "cell_type": "code",
   "execution_count": null,
   "id": "4de23fb7",
   "metadata": {},
   "outputs": [],
   "source": []
  }
 ],
 "metadata": {
  "kernelspec": {
   "display_name": "Python 3",
   "language": "python",
   "name": "python3"
  },
  "language_info": {
   "codemirror_mode": {
    "name": "ipython",
    "version": 3
   },
   "file_extension": ".py",
   "mimetype": "text/x-python",
   "name": "python",
   "nbconvert_exporter": "python",
   "pygments_lexer": "ipython3",
   "version": "3.8.8"
  }
 },
 "nbformat": 4,
 "nbformat_minor": 5
}
